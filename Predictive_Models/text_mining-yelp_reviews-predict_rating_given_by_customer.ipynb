{
 "cells": [
  {
   "cell_type": "markdown",
   "metadata": {
    "id": "U_22iqXxISWP"
   },
   "source": [
    "**1. Import the necessary liabraries**"
   ]
  },
  {
   "cell_type": "code",
   "execution_count": 812,
   "metadata": {
    "id": "VVXD7xhOO0wp"
   },
   "outputs": [],
   "source": [
    "# 1. Importing all the necessary libraries and modules\n",
    "\n",
    "import numpy as np\n",
    "import pandas as pd\n",
    "from sklearn.model_selection import train_test_split\n",
    "from sklearn.feature_extraction.text import CountVectorizer\n",
    "from sklearn.feature_extraction.text import TfidfVectorizer\n",
    "import matplotlib.pyplot as plt\n",
    "%matplotlib inline \n",
    "from sklearn.naive_bayes import MultinomialNB\n",
    "from sklearn import metrics\n"
   ]
  },
  {
   "cell_type": "code",
   "execution_count": 813,
   "metadata": {
    "id": "5DQz8SDZcpTv"
   },
   "outputs": [],
   "source": [
    "# Importing the csv data file\n",
    "df = pd.read_csv('/content/drive/MyDrive/CIS 9660 Data Mining /Lab4/yelp-data-lab5.csv')"
   ]
  },
  {
   "cell_type": "code",
   "execution_count": 814,
   "metadata": {
    "colab": {
     "base_uri": "https://localhost:8080/",
     "height": 204
    },
    "id": "401VpnsYmaZU",
    "outputId": "e4f05c13-2128-4cd4-f378-cb6183a560e0"
   },
   "outputs": [
    {
     "data": {
      "text/html": [
       "<div>\n",
       "<style scoped>\n",
       "    .dataframe tbody tr th:only-of-type {\n",
       "        vertical-align: middle;\n",
       "    }\n",
       "\n",
       "    .dataframe tbody tr th {\n",
       "        vertical-align: top;\n",
       "    }\n",
       "\n",
       "    .dataframe thead th {\n",
       "        text-align: right;\n",
       "    }\n",
       "</style>\n",
       "<table border=\"1\" class=\"dataframe\">\n",
       "  <thead>\n",
       "    <tr style=\"text-align: right;\">\n",
       "      <th></th>\n",
       "      <th>user_id</th>\n",
       "      <th>prod_id</th>\n",
       "      <th>rating</th>\n",
       "      <th>label</th>\n",
       "      <th>date</th>\n",
       "      <th>review</th>\n",
       "      <th>Year</th>\n",
       "      <th>venue</th>\n",
       "    </tr>\n",
       "  </thead>\n",
       "  <tbody>\n",
       "    <tr>\n",
       "      <th>0</th>\n",
       "      <td>60609</td>\n",
       "      <td>3611</td>\n",
       "      <td>bad</td>\n",
       "      <td>1</td>\n",
       "      <td>7/12/13</td>\n",
       "      <td>horrible. I went there for a nice fresh lobste...</td>\n",
       "      <td>2013</td>\n",
       "      <td>Don Pepe II</td>\n",
       "    </tr>\n",
       "    <tr>\n",
       "      <th>1</th>\n",
       "      <td>121342</td>\n",
       "      <td>3528</td>\n",
       "      <td>bad</td>\n",
       "      <td>1</td>\n",
       "      <td>7/7/12</td>\n",
       "      <td>This might be ok for a beer, but don't dare tr...</td>\n",
       "      <td>2012</td>\n",
       "      <td>Rattle ‘N’ Hum</td>\n",
       "    </tr>\n",
       "    <tr>\n",
       "      <th>2</th>\n",
       "      <td>102327</td>\n",
       "      <td>1378</td>\n",
       "      <td>bad</td>\n",
       "      <td>-1</td>\n",
       "      <td>11/17/12</td>\n",
       "      <td>one of the worst place to eat. We have never a...</td>\n",
       "      <td>2012</td>\n",
       "      <td>Green Chilli</td>\n",
       "    </tr>\n",
       "    <tr>\n",
       "      <th>3</th>\n",
       "      <td>108938</td>\n",
       "      <td>4037</td>\n",
       "      <td>bad</td>\n",
       "      <td>1</td>\n",
       "      <td>1/28/13</td>\n",
       "      <td>alfies has ok food. The manager is super nice ...</td>\n",
       "      <td>2013</td>\n",
       "      <td>Alfie’s</td>\n",
       "    </tr>\n",
       "    <tr>\n",
       "      <th>4</th>\n",
       "      <td>66638</td>\n",
       "      <td>2645</td>\n",
       "      <td>bad</td>\n",
       "      <td>-1</td>\n",
       "      <td>12/3/13</td>\n",
       "      <td>Love love this place! The food is great! The r...</td>\n",
       "      <td>2013</td>\n",
       "      <td>Buon Appetito</td>\n",
       "    </tr>\n",
       "  </tbody>\n",
       "</table>\n",
       "</div>"
      ],
      "text/plain": [
       "   user_id  prod_id  ...  Year           venue\n",
       "0    60609     3611  ...  2013     Don Pepe II\n",
       "1   121342     3528  ...  2012  Rattle ‘N’ Hum\n",
       "2   102327     1378  ...  2012    Green Chilli\n",
       "3   108938     4037  ...  2013         Alfie’s\n",
       "4    66638     2645  ...  2013   Buon Appetito\n",
       "\n",
       "[5 rows x 8 columns]"
      ]
     },
     "execution_count": 814,
     "metadata": {
      "tags": []
     },
     "output_type": "execute_result"
    }
   ],
   "source": [
    "# Making sure the data is correctly importing by calling the head (first 5 rows) of the imported file \n",
    "df.head()"
   ]
  },
  {
   "cell_type": "markdown",
   "metadata": {
    "id": "5AAgVn7HIePa"
   },
   "source": [
    "**2. Look at the distribution of the ratings (good vs bad)**"
   ]
  },
  {
   "cell_type": "code",
   "execution_count": 815,
   "metadata": {
    "colab": {
     "base_uri": "https://localhost:8080/"
    },
    "id": "hnr-_5U6Icjb",
    "outputId": "0f04ad54-ad3b-493e-b22f-aa0088e338c8"
   },
   "outputs": [
    {
     "data": {
      "text/plain": [
       "bad     119\n",
       "good     81\n",
       "Name: rating, dtype: int64"
      ]
     },
     "execution_count": 815,
     "metadata": {
      "tags": []
     },
     "output_type": "execute_result"
    }
   ],
   "source": [
    "df['rating'].value_counts()"
   ]
  },
  {
   "cell_type": "code",
   "execution_count": 816,
   "metadata": {
    "colab": {
     "base_uri": "https://localhost:8080/",
     "height": 298
    },
    "id": "LO1abhvWI3us",
    "outputId": "0ff220b1-94e3-42d2-9dc0-53b755b5fa89"
   },
   "outputs": [
    {
     "data": {
      "image/png": "[encoded data removed]",
      "text/plain": [
       "<Figure size 432x288 with 1 Axes>"
      ]
     },
     "metadata": {
      "needs_background": "light",
      "tags": []
     },
     "output_type": "display_data"
    }
   ],
   "source": [
    "df['rating'].hist(xlabelsize=12,ylabelsize=12,color='navy',grid=False)\n",
    "plt.xlabel(\"Rating\")\n",
    "plt.ylabel(\"Frequency\")\n",
    "plt.title(\"Distribution of ratings\")\n",
    "plt.show()"
   ]
  },
  {
   "cell_type": "markdown",
   "metadata": {
    "id": "B5XaQRTbh_rm"
   },
   "source": [
    "**3. Process the review text and create and build a TF-IDF and bigrams set and the original attributes. Create a new model using the new features**"
   ]
  },
  {
   "cell_type": "code",
   "execution_count": 817,
   "metadata": {
    "id": "WbMp3GU0I3-M"
   },
   "outputs": [],
   "source": [
    "# Creating dummy variables for the target variable\n",
    "df = pd.get_dummies(df, prefix_sep='_',drop_first=True,columns=['rating'])"
   ]
  },
  {
   "cell_type": "code",
   "execution_count": 818,
   "metadata": {
    "colab": {
     "base_uri": "https://localhost:8080/",
     "height": 204
    },
    "id": "lpG6Vec2I4HM",
    "outputId": "7a8a831f-b78f-4e93-ebab-8d1b71e20e26"
   },
   "outputs": [
    {
     "data": {
      "text/html": [
       "<div>\n",
       "<style scoped>\n",
       "    .dataframe tbody tr th:only-of-type {\n",
       "        vertical-align: middle;\n",
       "    }\n",
       "\n",
       "    .dataframe tbody tr th {\n",
       "        vertical-align: top;\n",
       "    }\n",
       "\n",
       "    .dataframe thead th {\n",
       "        text-align: right;\n",
       "    }\n",
       "</style>\n",
       "<table border=\"1\" class=\"dataframe\">\n",
       "  <thead>\n",
       "    <tr style=\"text-align: right;\">\n",
       "      <th></th>\n",
       "      <th>user_id</th>\n",
       "      <th>prod_id</th>\n",
       "      <th>label</th>\n",
       "      <th>date</th>\n",
       "      <th>review</th>\n",
       "      <th>Year</th>\n",
       "      <th>venue</th>\n",
       "      <th>rating_good</th>\n",
       "    </tr>\n",
       "  </thead>\n",
       "  <tbody>\n",
       "    <tr>\n",
       "      <th>0</th>\n",
       "      <td>60609</td>\n",
       "      <td>3611</td>\n",
       "      <td>1</td>\n",
       "      <td>7/12/13</td>\n",
       "      <td>horrible. I went there for a nice fresh lobste...</td>\n",
       "      <td>2013</td>\n",
       "      <td>Don Pepe II</td>\n",
       "      <td>0</td>\n",
       "    </tr>\n",
       "    <tr>\n",
       "      <th>1</th>\n",
       "      <td>121342</td>\n",
       "      <td>3528</td>\n",
       "      <td>1</td>\n",
       "      <td>7/7/12</td>\n",
       "      <td>This might be ok for a beer, but don't dare tr...</td>\n",
       "      <td>2012</td>\n",
       "      <td>Rattle ‘N’ Hum</td>\n",
       "      <td>0</td>\n",
       "    </tr>\n",
       "    <tr>\n",
       "      <th>2</th>\n",
       "      <td>102327</td>\n",
       "      <td>1378</td>\n",
       "      <td>-1</td>\n",
       "      <td>11/17/12</td>\n",
       "      <td>one of the worst place to eat. We have never a...</td>\n",
       "      <td>2012</td>\n",
       "      <td>Green Chilli</td>\n",
       "      <td>0</td>\n",
       "    </tr>\n",
       "    <tr>\n",
       "      <th>3</th>\n",
       "      <td>108938</td>\n",
       "      <td>4037</td>\n",
       "      <td>1</td>\n",
       "      <td>1/28/13</td>\n",
       "      <td>alfies has ok food. The manager is super nice ...</td>\n",
       "      <td>2013</td>\n",
       "      <td>Alfie’s</td>\n",
       "      <td>0</td>\n",
       "    </tr>\n",
       "    <tr>\n",
       "      <th>4</th>\n",
       "      <td>66638</td>\n",
       "      <td>2645</td>\n",
       "      <td>-1</td>\n",
       "      <td>12/3/13</td>\n",
       "      <td>Love love this place! The food is great! The r...</td>\n",
       "      <td>2013</td>\n",
       "      <td>Buon Appetito</td>\n",
       "      <td>0</td>\n",
       "    </tr>\n",
       "  </tbody>\n",
       "</table>\n",
       "</div>"
      ],
      "text/plain": [
       "   user_id  prod_id  label  ...  Year           venue  rating_good\n",
       "0    60609     3611      1  ...  2013     Don Pepe II            0\n",
       "1   121342     3528      1  ...  2012  Rattle ‘N’ Hum            0\n",
       "2   102327     1378     -1  ...  2012    Green Chilli            0\n",
       "3   108938     4037      1  ...  2013         Alfie’s            0\n",
       "4    66638     2645     -1  ...  2013   Buon Appetito            0\n",
       "\n",
       "[5 rows x 8 columns]"
      ]
     },
     "execution_count": 818,
     "metadata": {
      "tags": []
     },
     "output_type": "execute_result"
    }
   ],
   "source": [
    "df.head()"
   ]
  },
  {
   "cell_type": "code",
   "execution_count": 819,
   "metadata": {
    "id": "v0I8D9dvmbug"
   },
   "outputs": [],
   "source": [
    "# Creating a series to store the label y\n",
    "y = df['rating_good']"
   ]
  },
  {
   "cell_type": "code",
   "execution_count": 820,
   "metadata": {
    "id": "c-zVSYi6pmG9"
   },
   "outputs": [],
   "source": [
    "# Creating training and testing sets with random state = 1 and test data is 30% of the data\n",
    "X_train, X_test, y_train, y_test = train_test_split(df['review'], y,test_size=0.3, random_state=1)"
   ]
  },
  {
   "cell_type": "code",
   "execution_count": 821,
   "metadata": {
    "colab": {
     "base_uri": "https://localhost:8080/"
    },
    "id": "skcGBjympzS-",
    "outputId": "e1862c12-3b77-4a7c-fc4b-af33a646802e"
   },
   "outputs": [
    {
     "name": "stdout",
     "output_type": "stream",
     "text": [
      "['00', '10', '100', '10pm', '11', '1138', '12', '13', '14', '15', '150x', '16', '17', '180', '1st', '20', '2012', '2013', '22', '23', '24', '25', '26', '2inch', '2pm', '2yr', '30', '32', '3in', '40']\n",
      "[[0 2 0 ... 0 0 0]\n",
      " [0 0 0 ... 0 0 0]\n",
      " [0 0 0 ... 0 0 0]\n",
      " [0 0 0 ... 0 0 0]\n",
      " [0 0 0 ... 0 0 0]]\n"
     ]
    }
   ],
   "source": [
    "# Initialize a CountVectorizer object as count_vectorizer (keeping ngrams as 1 as this is when the best results are achieved.)\n",
    "count_vectorizer = CountVectorizer(ngram_range=(1, 1),stop_words = 'english')\n",
    "\n",
    "# Transform the training data using only the 'review' column values as count_train \n",
    "count_train = count_vectorizer.fit_transform(X_train.values)\n",
    "\n",
    "# Transform the test data using only the 'review' column values as count_test \n",
    "count_test = count_vectorizer.transform(X_test.values)\n",
    "\n",
    "# Print the first 30 features of the count_vectorizer\n",
    "print(count_vectorizer.get_feature_names()[:30])  \n",
    "print(count_train.A[:5])"
   ]
  },
  {
   "cell_type": "code",
   "execution_count": 822,
   "metadata": {
    "colab": {
     "base_uri": "https://localhost:8080/"
    },
    "id": "u2Udy3-XsM8Q",
    "outputId": "bef24009-9c28-4a32-d6b1-9f3aec96cb0c"
   },
   "outputs": [
    {
     "data": {
      "text/plain": [
       "2337"
      ]
     },
     "execution_count": 822,
     "metadata": {
      "tags": []
     },
     "output_type": "execute_result"
    }
   ],
   "source": [
    "len(count_vectorizer.get_feature_names())"
   ]
  },
  {
   "cell_type": "code",
   "execution_count": 823,
   "metadata": {
    "colab": {
     "base_uri": "https://localhost:8080/"
    },
    "id": "XJ-iIdlEsavj",
    "outputId": "d490dad8-5a0c-41ea-db36-a18752e51676"
   },
   "outputs": [
    {
     "name": "stdout",
     "output_type": "stream",
     "text": [
      "['00', '10', '100', '10pm', '11', '1138', '12', '13', '14', '15', '150x', '16', '17', '180', '1st', '20', '2012', '2013', '22', '23', '24', '25', '26', '2inch', '2pm', '2yr', '30', '32', '3in', '40']\n",
      "[[0.         0.28181892 0.         ... 0.         0.         0.        ]\n",
      " [0.         0.         0.         ... 0.         0.         0.        ]\n",
      " [0.         0.         0.         ... 0.         0.         0.        ]\n",
      " [0.         0.         0.         ... 0.         0.         0.        ]\n",
      " [0.         0.         0.         ... 0.         0.         0.        ]]\n"
     ]
    }
   ],
   "source": [
    "# Initialize a TfidfVectorizer object as tfidf_vectorizer (Keeping n_grams as 1 as this is when the best result is achieved. this may be due to less data)\n",
    "tfidf_vectorizer = TfidfVectorizer(ngram_range=(1, 1),stop_words = 'english', max_df = 0.7)\n",
    "\n",
    "# Transform the training data as tfidf_train \n",
    "tfidf_train = tfidf_vectorizer.fit_transform(X_train.values)\n",
    "\n",
    "# Transform the test data as tfidf_test \n",
    "tfidf_test = tfidf_vectorizer.transform(X_test.values)\n",
    "\n",
    "# Print the first 30 features\n",
    "print(tfidf_vectorizer.get_feature_names()[:30])\n",
    "\n",
    "# Print the first 5 vectors of the tfidf training data\n",
    "print(tfidf_train.A[:5])"
   ]
  },
  {
   "cell_type": "code",
   "execution_count": 824,
   "metadata": {
    "id": "qapFhkBVsk5X"
   },
   "outputs": [],
   "source": [
    "# Creating CountVectorizer DataFrame as count_df\n",
    "count_df = pd.DataFrame(count_train.A, columns=count_vectorizer.get_feature_names())\n",
    "\n",
    "# Creating TfidfVectorizer DataFrame as tfidf_df\n",
    "tfidf_df = pd.DataFrame(tfidf_train.A, columns=tfidf_vectorizer.get_feature_names())"
   ]
  },
  {
   "cell_type": "code",
   "execution_count": 825,
   "metadata": {
    "colab": {
     "base_uri": "https://localhost:8080/",
     "height": 160
    },
    "id": "__3_JiDlstdC",
    "outputId": "c25cede1-b3c1-4f0a-eda9-302502b714e1"
   },
   "outputs": [
    {
     "data": {
      "text/html": [
       "<div>\n",
       "<style scoped>\n",
       "    .dataframe tbody tr th:only-of-type {\n",
       "        vertical-align: middle;\n",
       "    }\n",
       "\n",
       "    .dataframe tbody tr th {\n",
       "        vertical-align: top;\n",
       "    }\n",
       "\n",
       "    .dataframe thead th {\n",
       "        text-align: right;\n",
       "    }\n",
       "</style>\n",
       "<table border=\"1\" class=\"dataframe\">\n",
       "  <thead>\n",
       "    <tr style=\"text-align: right;\">\n",
       "      <th></th>\n",
       "      <th>00</th>\n",
       "      <th>10</th>\n",
       "      <th>100</th>\n",
       "      <th>10pm</th>\n",
       "      <th>11</th>\n",
       "      <th>1138</th>\n",
       "      <th>12</th>\n",
       "      <th>13</th>\n",
       "      <th>14</th>\n",
       "      <th>15</th>\n",
       "      <th>150x</th>\n",
       "      <th>16</th>\n",
       "      <th>17</th>\n",
       "      <th>180</th>\n",
       "      <th>1st</th>\n",
       "      <th>20</th>\n",
       "      <th>2012</th>\n",
       "      <th>2013</th>\n",
       "      <th>22</th>\n",
       "      <th>23</th>\n",
       "      <th>24</th>\n",
       "      <th>25</th>\n",
       "      <th>26</th>\n",
       "      <th>2inch</th>\n",
       "      <th>2pm</th>\n",
       "      <th>2yr</th>\n",
       "      <th>30</th>\n",
       "      <th>32</th>\n",
       "      <th>3in</th>\n",
       "      <th>40</th>\n",
       "      <th>43</th>\n",
       "      <th>45</th>\n",
       "      <th>4th</th>\n",
       "      <th>4yr</th>\n",
       "      <th>50</th>\n",
       "      <th>50c</th>\n",
       "      <th>51</th>\n",
       "      <th>5th</th>\n",
       "      <th>60</th>\n",
       "      <th>73</th>\n",
       "      <th>...</th>\n",
       "      <th>world</th>\n",
       "      <th>worms</th>\n",
       "      <th>worried</th>\n",
       "      <th>worries</th>\n",
       "      <th>worse</th>\n",
       "      <th>worst</th>\n",
       "      <th>worth</th>\n",
       "      <th>woudn</th>\n",
       "      <th>wouldn</th>\n",
       "      <th>wouldnt</th>\n",
       "      <th>wow</th>\n",
       "      <th>wrap</th>\n",
       "      <th>wrapped</th>\n",
       "      <th>write</th>\n",
       "      <th>writing</th>\n",
       "      <th>wrong</th>\n",
       "      <th>yale</th>\n",
       "      <th>yam</th>\n",
       "      <th>yankee</th>\n",
       "      <th>yay</th>\n",
       "      <th>yeah</th>\n",
       "      <th>year</th>\n",
       "      <th>years</th>\n",
       "      <th>yelling</th>\n",
       "      <th>yellow</th>\n",
       "      <th>yellowtail</th>\n",
       "      <th>yelp</th>\n",
       "      <th>yep</th>\n",
       "      <th>yes</th>\n",
       "      <th>yesterday</th>\n",
       "      <th>yoga</th>\n",
       "      <th>yogurt</th>\n",
       "      <th>yolked</th>\n",
       "      <th>york</th>\n",
       "      <th>yuca</th>\n",
       "      <th>yum</th>\n",
       "      <th>yummmmm</th>\n",
       "      <th>zero</th>\n",
       "      <th>zi</th>\n",
       "      <th>zia</th>\n",
       "    </tr>\n",
       "  </thead>\n",
       "  <tbody>\n",
       "    <tr>\n",
       "      <th>0</th>\n",
       "      <td>0</td>\n",
       "      <td>2</td>\n",
       "      <td>0</td>\n",
       "      <td>0</td>\n",
       "      <td>0</td>\n",
       "      <td>0</td>\n",
       "      <td>1</td>\n",
       "      <td>0</td>\n",
       "      <td>1</td>\n",
       "      <td>1</td>\n",
       "      <td>0</td>\n",
       "      <td>0</td>\n",
       "      <td>0</td>\n",
       "      <td>0</td>\n",
       "      <td>0</td>\n",
       "      <td>0</td>\n",
       "      <td>0</td>\n",
       "      <td>0</td>\n",
       "      <td>0</td>\n",
       "      <td>0</td>\n",
       "      <td>0</td>\n",
       "      <td>0</td>\n",
       "      <td>0</td>\n",
       "      <td>0</td>\n",
       "      <td>0</td>\n",
       "      <td>0</td>\n",
       "      <td>0</td>\n",
       "      <td>0</td>\n",
       "      <td>0</td>\n",
       "      <td>0</td>\n",
       "      <td>0</td>\n",
       "      <td>0</td>\n",
       "      <td>0</td>\n",
       "      <td>0</td>\n",
       "      <td>1</td>\n",
       "      <td>0</td>\n",
       "      <td>0</td>\n",
       "      <td>0</td>\n",
       "      <td>0</td>\n",
       "      <td>0</td>\n",
       "      <td>...</td>\n",
       "      <td>0</td>\n",
       "      <td>0</td>\n",
       "      <td>0</td>\n",
       "      <td>0</td>\n",
       "      <td>0</td>\n",
       "      <td>0</td>\n",
       "      <td>0</td>\n",
       "      <td>0</td>\n",
       "      <td>0</td>\n",
       "      <td>0</td>\n",
       "      <td>0</td>\n",
       "      <td>0</td>\n",
       "      <td>0</td>\n",
       "      <td>0</td>\n",
       "      <td>0</td>\n",
       "      <td>0</td>\n",
       "      <td>0</td>\n",
       "      <td>0</td>\n",
       "      <td>0</td>\n",
       "      <td>0</td>\n",
       "      <td>0</td>\n",
       "      <td>0</td>\n",
       "      <td>0</td>\n",
       "      <td>0</td>\n",
       "      <td>0</td>\n",
       "      <td>0</td>\n",
       "      <td>0</td>\n",
       "      <td>0</td>\n",
       "      <td>0</td>\n",
       "      <td>0</td>\n",
       "      <td>0</td>\n",
       "      <td>0</td>\n",
       "      <td>0</td>\n",
       "      <td>0</td>\n",
       "      <td>0</td>\n",
       "      <td>0</td>\n",
       "      <td>0</td>\n",
       "      <td>0</td>\n",
       "      <td>0</td>\n",
       "      <td>0</td>\n",
       "    </tr>\n",
       "    <tr>\n",
       "      <th>1</th>\n",
       "      <td>0</td>\n",
       "      <td>0</td>\n",
       "      <td>0</td>\n",
       "      <td>0</td>\n",
       "      <td>0</td>\n",
       "      <td>0</td>\n",
       "      <td>0</td>\n",
       "      <td>0</td>\n",
       "      <td>0</td>\n",
       "      <td>0</td>\n",
       "      <td>0</td>\n",
       "      <td>0</td>\n",
       "      <td>0</td>\n",
       "      <td>0</td>\n",
       "      <td>0</td>\n",
       "      <td>0</td>\n",
       "      <td>0</td>\n",
       "      <td>0</td>\n",
       "      <td>0</td>\n",
       "      <td>0</td>\n",
       "      <td>0</td>\n",
       "      <td>0</td>\n",
       "      <td>0</td>\n",
       "      <td>0</td>\n",
       "      <td>0</td>\n",
       "      <td>0</td>\n",
       "      <td>0</td>\n",
       "      <td>0</td>\n",
       "      <td>0</td>\n",
       "      <td>0</td>\n",
       "      <td>0</td>\n",
       "      <td>0</td>\n",
       "      <td>0</td>\n",
       "      <td>0</td>\n",
       "      <td>0</td>\n",
       "      <td>0</td>\n",
       "      <td>0</td>\n",
       "      <td>0</td>\n",
       "      <td>0</td>\n",
       "      <td>0</td>\n",
       "      <td>...</td>\n",
       "      <td>0</td>\n",
       "      <td>0</td>\n",
       "      <td>0</td>\n",
       "      <td>0</td>\n",
       "      <td>0</td>\n",
       "      <td>0</td>\n",
       "      <td>0</td>\n",
       "      <td>0</td>\n",
       "      <td>0</td>\n",
       "      <td>0</td>\n",
       "      <td>0</td>\n",
       "      <td>0</td>\n",
       "      <td>0</td>\n",
       "      <td>0</td>\n",
       "      <td>0</td>\n",
       "      <td>0</td>\n",
       "      <td>0</td>\n",
       "      <td>0</td>\n",
       "      <td>0</td>\n",
       "      <td>0</td>\n",
       "      <td>0</td>\n",
       "      <td>0</td>\n",
       "      <td>0</td>\n",
       "      <td>0</td>\n",
       "      <td>0</td>\n",
       "      <td>0</td>\n",
       "      <td>0</td>\n",
       "      <td>0</td>\n",
       "      <td>0</td>\n",
       "      <td>0</td>\n",
       "      <td>0</td>\n",
       "      <td>0</td>\n",
       "      <td>0</td>\n",
       "      <td>0</td>\n",
       "      <td>0</td>\n",
       "      <td>0</td>\n",
       "      <td>0</td>\n",
       "      <td>0</td>\n",
       "      <td>0</td>\n",
       "      <td>0</td>\n",
       "    </tr>\n",
       "  </tbody>\n",
       "</table>\n",
       "<p>2 rows × 2337 columns</p>\n",
       "</div>"
      ],
      "text/plain": [
       "   00  10  100  10pm  11  1138  12  ...  york  yuca  yum  yummmmm  zero  zi  zia\n",
       "0   0   2    0     0   0     0   1  ...     0     0    0        0     0   0    0\n",
       "1   0   0    0     0   0     0   0  ...     0     0    0        0     0   0    0\n",
       "\n",
       "[2 rows x 2337 columns]"
      ]
     },
     "execution_count": 825,
     "metadata": {
      "tags": []
     },
     "output_type": "execute_result"
    }
   ],
   "source": [
    "# Print the head of count_df\n",
    "count_df.head(2)"
   ]
  },
  {
   "cell_type": "code",
   "execution_count": 826,
   "metadata": {
    "colab": {
     "base_uri": "https://localhost:8080/",
     "height": 160
    },
    "id": "YWQg1bLksvq3",
    "outputId": "fd9bef94-600d-4d43-87d9-9a4d77cb385a"
   },
   "outputs": [
    {
     "data": {
      "text/html": [
       "<div>\n",
       "<style scoped>\n",
       "    .dataframe tbody tr th:only-of-type {\n",
       "        vertical-align: middle;\n",
       "    }\n",
       "\n",
       "    .dataframe tbody tr th {\n",
       "        vertical-align: top;\n",
       "    }\n",
       "\n",
       "    .dataframe thead th {\n",
       "        text-align: right;\n",
       "    }\n",
       "</style>\n",
       "<table border=\"1\" class=\"dataframe\">\n",
       "  <thead>\n",
       "    <tr style=\"text-align: right;\">\n",
       "      <th></th>\n",
       "      <th>00</th>\n",
       "      <th>10</th>\n",
       "      <th>100</th>\n",
       "      <th>10pm</th>\n",
       "      <th>11</th>\n",
       "      <th>1138</th>\n",
       "      <th>12</th>\n",
       "      <th>13</th>\n",
       "      <th>14</th>\n",
       "      <th>15</th>\n",
       "      <th>150x</th>\n",
       "      <th>16</th>\n",
       "      <th>17</th>\n",
       "      <th>180</th>\n",
       "      <th>1st</th>\n",
       "      <th>20</th>\n",
       "      <th>2012</th>\n",
       "      <th>2013</th>\n",
       "      <th>22</th>\n",
       "      <th>23</th>\n",
       "      <th>24</th>\n",
       "      <th>25</th>\n",
       "      <th>26</th>\n",
       "      <th>2inch</th>\n",
       "      <th>2pm</th>\n",
       "      <th>2yr</th>\n",
       "      <th>30</th>\n",
       "      <th>32</th>\n",
       "      <th>3in</th>\n",
       "      <th>40</th>\n",
       "      <th>43</th>\n",
       "      <th>45</th>\n",
       "      <th>4th</th>\n",
       "      <th>4yr</th>\n",
       "      <th>50</th>\n",
       "      <th>50c</th>\n",
       "      <th>51</th>\n",
       "      <th>5th</th>\n",
       "      <th>60</th>\n",
       "      <th>73</th>\n",
       "      <th>...</th>\n",
       "      <th>world</th>\n",
       "      <th>worms</th>\n",
       "      <th>worried</th>\n",
       "      <th>worries</th>\n",
       "      <th>worse</th>\n",
       "      <th>worst</th>\n",
       "      <th>worth</th>\n",
       "      <th>woudn</th>\n",
       "      <th>wouldn</th>\n",
       "      <th>wouldnt</th>\n",
       "      <th>wow</th>\n",
       "      <th>wrap</th>\n",
       "      <th>wrapped</th>\n",
       "      <th>write</th>\n",
       "      <th>writing</th>\n",
       "      <th>wrong</th>\n",
       "      <th>yale</th>\n",
       "      <th>yam</th>\n",
       "      <th>yankee</th>\n",
       "      <th>yay</th>\n",
       "      <th>yeah</th>\n",
       "      <th>year</th>\n",
       "      <th>years</th>\n",
       "      <th>yelling</th>\n",
       "      <th>yellow</th>\n",
       "      <th>yellowtail</th>\n",
       "      <th>yelp</th>\n",
       "      <th>yep</th>\n",
       "      <th>yes</th>\n",
       "      <th>yesterday</th>\n",
       "      <th>yoga</th>\n",
       "      <th>yogurt</th>\n",
       "      <th>yolked</th>\n",
       "      <th>york</th>\n",
       "      <th>yuca</th>\n",
       "      <th>yum</th>\n",
       "      <th>yummmmm</th>\n",
       "      <th>zero</th>\n",
       "      <th>zi</th>\n",
       "      <th>zia</th>\n",
       "    </tr>\n",
       "  </thead>\n",
       "  <tbody>\n",
       "    <tr>\n",
       "      <th>0</th>\n",
       "      <td>0.0</td>\n",
       "      <td>0.281819</td>\n",
       "      <td>0.0</td>\n",
       "      <td>0.0</td>\n",
       "      <td>0.0</td>\n",
       "      <td>0.0</td>\n",
       "      <td>0.173107</td>\n",
       "      <td>0.0</td>\n",
       "      <td>0.218855</td>\n",
       "      <td>0.147866</td>\n",
       "      <td>0.0</td>\n",
       "      <td>0.0</td>\n",
       "      <td>0.0</td>\n",
       "      <td>0.0</td>\n",
       "      <td>0.0</td>\n",
       "      <td>0.0</td>\n",
       "      <td>0.0</td>\n",
       "      <td>0.0</td>\n",
       "      <td>0.0</td>\n",
       "      <td>0.0</td>\n",
       "      <td>0.0</td>\n",
       "      <td>0.0</td>\n",
       "      <td>0.0</td>\n",
       "      <td>0.0</td>\n",
       "      <td>0.0</td>\n",
       "      <td>0.0</td>\n",
       "      <td>0.0</td>\n",
       "      <td>0.0</td>\n",
       "      <td>0.0</td>\n",
       "      <td>0.0</td>\n",
       "      <td>0.0</td>\n",
       "      <td>0.0</td>\n",
       "      <td>0.0</td>\n",
       "      <td>0.0</td>\n",
       "      <td>0.156222</td>\n",
       "      <td>0.0</td>\n",
       "      <td>0.0</td>\n",
       "      <td>0.0</td>\n",
       "      <td>0.0</td>\n",
       "      <td>0.0</td>\n",
       "      <td>...</td>\n",
       "      <td>0.0</td>\n",
       "      <td>0.0</td>\n",
       "      <td>0.0</td>\n",
       "      <td>0.0</td>\n",
       "      <td>0.0</td>\n",
       "      <td>0.0</td>\n",
       "      <td>0.0</td>\n",
       "      <td>0.0</td>\n",
       "      <td>0.0</td>\n",
       "      <td>0.0</td>\n",
       "      <td>0.0</td>\n",
       "      <td>0.0</td>\n",
       "      <td>0.0</td>\n",
       "      <td>0.0</td>\n",
       "      <td>0.0</td>\n",
       "      <td>0.0</td>\n",
       "      <td>0.0</td>\n",
       "      <td>0.0</td>\n",
       "      <td>0.0</td>\n",
       "      <td>0.0</td>\n",
       "      <td>0.0</td>\n",
       "      <td>0.0</td>\n",
       "      <td>0.0</td>\n",
       "      <td>0.0</td>\n",
       "      <td>0.0</td>\n",
       "      <td>0.0</td>\n",
       "      <td>0.0</td>\n",
       "      <td>0.0</td>\n",
       "      <td>0.0</td>\n",
       "      <td>0.0</td>\n",
       "      <td>0.0</td>\n",
       "      <td>0.0</td>\n",
       "      <td>0.0</td>\n",
       "      <td>0.0</td>\n",
       "      <td>0.0</td>\n",
       "      <td>0.0</td>\n",
       "      <td>0.0</td>\n",
       "      <td>0.0</td>\n",
       "      <td>0.0</td>\n",
       "      <td>0.0</td>\n",
       "    </tr>\n",
       "    <tr>\n",
       "      <th>1</th>\n",
       "      <td>0.0</td>\n",
       "      <td>0.000000</td>\n",
       "      <td>0.0</td>\n",
       "      <td>0.0</td>\n",
       "      <td>0.0</td>\n",
       "      <td>0.0</td>\n",
       "      <td>0.000000</td>\n",
       "      <td>0.0</td>\n",
       "      <td>0.000000</td>\n",
       "      <td>0.000000</td>\n",
       "      <td>0.0</td>\n",
       "      <td>0.0</td>\n",
       "      <td>0.0</td>\n",
       "      <td>0.0</td>\n",
       "      <td>0.0</td>\n",
       "      <td>0.0</td>\n",
       "      <td>0.0</td>\n",
       "      <td>0.0</td>\n",
       "      <td>0.0</td>\n",
       "      <td>0.0</td>\n",
       "      <td>0.0</td>\n",
       "      <td>0.0</td>\n",
       "      <td>0.0</td>\n",
       "      <td>0.0</td>\n",
       "      <td>0.0</td>\n",
       "      <td>0.0</td>\n",
       "      <td>0.0</td>\n",
       "      <td>0.0</td>\n",
       "      <td>0.0</td>\n",
       "      <td>0.0</td>\n",
       "      <td>0.0</td>\n",
       "      <td>0.0</td>\n",
       "      <td>0.0</td>\n",
       "      <td>0.0</td>\n",
       "      <td>0.000000</td>\n",
       "      <td>0.0</td>\n",
       "      <td>0.0</td>\n",
       "      <td>0.0</td>\n",
       "      <td>0.0</td>\n",
       "      <td>0.0</td>\n",
       "      <td>...</td>\n",
       "      <td>0.0</td>\n",
       "      <td>0.0</td>\n",
       "      <td>0.0</td>\n",
       "      <td>0.0</td>\n",
       "      <td>0.0</td>\n",
       "      <td>0.0</td>\n",
       "      <td>0.0</td>\n",
       "      <td>0.0</td>\n",
       "      <td>0.0</td>\n",
       "      <td>0.0</td>\n",
       "      <td>0.0</td>\n",
       "      <td>0.0</td>\n",
       "      <td>0.0</td>\n",
       "      <td>0.0</td>\n",
       "      <td>0.0</td>\n",
       "      <td>0.0</td>\n",
       "      <td>0.0</td>\n",
       "      <td>0.0</td>\n",
       "      <td>0.0</td>\n",
       "      <td>0.0</td>\n",
       "      <td>0.0</td>\n",
       "      <td>0.0</td>\n",
       "      <td>0.0</td>\n",
       "      <td>0.0</td>\n",
       "      <td>0.0</td>\n",
       "      <td>0.0</td>\n",
       "      <td>0.0</td>\n",
       "      <td>0.0</td>\n",
       "      <td>0.0</td>\n",
       "      <td>0.0</td>\n",
       "      <td>0.0</td>\n",
       "      <td>0.0</td>\n",
       "      <td>0.0</td>\n",
       "      <td>0.0</td>\n",
       "      <td>0.0</td>\n",
       "      <td>0.0</td>\n",
       "      <td>0.0</td>\n",
       "      <td>0.0</td>\n",
       "      <td>0.0</td>\n",
       "      <td>0.0</td>\n",
       "    </tr>\n",
       "  </tbody>\n",
       "</table>\n",
       "<p>2 rows × 2337 columns</p>\n",
       "</div>"
      ],
      "text/plain": [
       "    00        10  100  10pm   11  1138  ...  yuca  yum  yummmmm  zero   zi  zia\n",
       "0  0.0  0.281819  0.0   0.0  0.0   0.0  ...   0.0  0.0      0.0   0.0  0.0  0.0\n",
       "1  0.0  0.000000  0.0   0.0  0.0   0.0  ...   0.0  0.0      0.0   0.0  0.0  0.0\n",
       "\n",
       "[2 rows x 2337 columns]"
      ]
     },
     "execution_count": 826,
     "metadata": {
      "tags": []
     },
     "output_type": "execute_result"
    }
   ],
   "source": [
    "# Print the head of tfidf_df\n",
    "tfidf_df.head(2)"
   ]
  },
  {
   "cell_type": "markdown",
   "metadata": {
    "id": "iq6rcqup8iu9"
   },
   "source": [
    "**Building Naive Bayes Count Vectorizer**"
   ]
  },
  {
   "cell_type": "code",
   "execution_count": 827,
   "metadata": {
    "colab": {
     "base_uri": "https://localhost:8080/"
    },
    "id": "9Kzv6OY2s27G",
    "outputId": "ff3c66b5-e43b-433d-c16b-b7fdbaf78009"
   },
   "outputs": [
    {
     "data": {
      "text/plain": [
       "0.867"
      ]
     },
     "execution_count": 827,
     "metadata": {
      "tags": []
     },
     "output_type": "execute_result"
    }
   ],
   "source": [
    "# Building Naive Bayes Count_Vectorizer\n",
    "\n",
    "nb_classifier = MultinomialNB()\n",
    "nb_classifier.fit(count_train, y_train)\n",
    "pred = nb_classifier.predict(count_test)\n",
    "round(metrics.accuracy_score(y_test, pred),3)"
   ]
  },
  {
   "cell_type": "code",
   "execution_count": 828,
   "metadata": {
    "colab": {
     "base_uri": "https://localhost:8080/"
    },
    "id": "XrnZYQgbs53t",
    "outputId": "3ad1c73d-20f4-4b63-cfad-3f36613d6dba"
   },
   "outputs": [
    {
     "data": {
      "text/plain": [
       "array([[28,  0],\n",
       "       [ 8, 24]])"
      ]
     },
     "execution_count": 828,
     "metadata": {
      "tags": []
     },
     "output_type": "execute_result"
    }
   ],
   "source": [
    "# Creating a confusion matrix\n",
    "metrics.confusion_matrix(y_test, pred)"
   ]
  },
  {
   "cell_type": "code",
   "execution_count": 829,
   "metadata": {
    "colab": {
     "base_uri": "https://localhost:8080/"
    },
    "id": "sIjMvy7ys-D_",
    "outputId": "57358dfd-03e5-40eb-c60a-e02a019b3d29"
   },
   "outputs": [
    {
     "data": {
      "text/plain": [
       "0.875"
      ]
     },
     "execution_count": 829,
     "metadata": {
      "tags": []
     },
     "output_type": "execute_result"
    }
   ],
   "source": [
    "fpr, tpr, thresholds = metrics.roc_curve(y_test, pred)\n",
    "metrics.auc(fpr, tpr)"
   ]
  },
  {
   "cell_type": "markdown",
   "metadata": {
    "id": "ldDDDJ3f9Nja"
   },
   "source": [
    "**Building Naive Bayes of TFIDF_Vectorizer**"
   ]
  },
  {
   "cell_type": "code",
   "execution_count": 830,
   "metadata": {
    "id": "SzuERS3ltIIE"
   },
   "outputs": [],
   "source": [
    "# Create Multinomial Naive Bayes classifier as nb_classifier\n",
    "nb_classifier = MultinomialNB()\n",
    "nb_classifier.fit(tfidf_train, y_train)\n",
    "\n",
    "# Create the predicted tags as pred\n",
    "pred = nb_classifier.predict(tfidf_test)"
   ]
  },
  {
   "cell_type": "code",
   "execution_count": 831,
   "metadata": {
    "colab": {
     "base_uri": "https://localhost:8080/"
    },
    "id": "BdjiThv69VfM",
    "outputId": "63588ad6-0fae-4a14-cfaa-542db4b14b8a"
   },
   "outputs": [
    {
     "name": "stdout",
     "output_type": "stream",
     "text": [
      "              precision    recall  f1-score   support\n",
      "\n",
      "           0       0.54      1.00      0.70        28\n",
      "           1       1.00      0.25      0.40        32\n",
      "\n",
      "    accuracy                           0.60        60\n",
      "   macro avg       0.77      0.62      0.55        60\n",
      "weighted avg       0.78      0.60      0.54        60\n",
      "\n"
     ]
    }
   ],
   "source": [
    "# Below are the precision, recall and f- measure\n",
    "print(metrics.classification_report(y_test, pred))"
   ]
  },
  {
   "cell_type": "code",
   "execution_count": 832,
   "metadata": {
    "colab": {
     "base_uri": "https://localhost:8080/"
    },
    "id": "UODXTaEUtIyp",
    "outputId": "a66dd95c-e91b-41f2-9342-b1e3fa7d8ed9"
   },
   "outputs": [
    {
     "name": "stdout",
     "output_type": "stream",
     "text": [
      "0.6\n"
     ]
    }
   ],
   "source": [
    "print(score)"
   ]
  },
  {
   "cell_type": "code",
   "execution_count": 833,
   "metadata": {
    "colab": {
     "base_uri": "https://localhost:8080/"
    },
    "id": "aIjPYb81CT-E",
    "outputId": "a73a248c-c5cd-497e-93e7-bbd7822b570f"
   },
   "outputs": [
    {
     "name": "stdout",
     "output_type": "stream",
     "text": [
      "0.625\n"
     ]
    }
   ],
   "source": [
    "fpr, tpr, thresholds = metrics.roc_curve(y_test, pred)\n",
    "roc_auc = metrics.auc(fpr, tpr)\n",
    "print(roc_auc)"
   ]
  },
  {
   "cell_type": "code",
   "execution_count": 834,
   "metadata": {
    "colab": {
     "base_uri": "https://localhost:8080/"
    },
    "id": "o-q0vQ7mtK8K",
    "outputId": "333d95ea-ccb2-4bb5-f34b-9d34f6b0eb8c"
   },
   "outputs": [
    {
     "data": {
      "text/plain": [
       "array([[28,  0],\n",
       "       [24,  8]])"
      ]
     },
     "execution_count": 834,
     "metadata": {
      "tags": []
     },
     "output_type": "execute_result"
    }
   ],
   "source": [
    "# Creating the confusion matrix\n",
    "metrics.confusion_matrix(y_test, pred)\n"
   ]
  },
  {
   "cell_type": "code",
   "execution_count": 834,
   "metadata": {
    "id": "0109rhrgtOBK"
   },
   "outputs": [],
   "source": []
  },
  {
   "cell_type": "markdown",
   "metadata": {
    "id": "IghtCm-C9aID"
   },
   "source": [
    "**Testing on New Data**"
   ]
  },
  {
   "cell_type": "code",
   "execution_count": 835,
   "metadata": {
    "id": "UOO2zyZJ9fcW"
   },
   "outputs": [],
   "source": [
    "text = [\"fantastic! love the service food and everything\"]\n",
    "pd_text = pd.Series(text)"
   ]
  },
  {
   "cell_type": "code",
   "execution_count": 836,
   "metadata": {
    "colab": {
     "base_uri": "https://localhost:8080/"
    },
    "id": "3LOn2bOd9p1k",
    "outputId": "d5c2c6d6-9369-42e2-d93b-9f67894e231e"
   },
   "outputs": [
    {
     "name": "stdout",
     "output_type": "stream",
     "text": [
      "the review was classified as:  1\n"
     ]
    }
   ],
   "source": [
    "tfidf_text = tfidf_vectorizer.transform(pd_text)\n",
    "prediction = nb_classifier.predict(tfidf_text)\n",
    "print('the review was classified as: ', prediction[0])"
   ]
  },
  {
   "cell_type": "code",
   "execution_count": 837,
   "metadata": {
    "colab": {
     "base_uri": "https://localhost:8080/"
    },
    "id": "GRcqlWfs9sWN",
    "outputId": "b8571ed1-ce7b-40b4-a66e-9465fa60d3d3"
   },
   "outputs": [
    {
     "name": "stdout",
     "output_type": "stream",
     "text": [
      "the review was classified as:  good\n"
     ]
    }
   ],
   "source": [
    "tfidf_text = tfidf_vectorizer.transform(pd_text)\n",
    "prediction = nb_classifier.predict(tfidf_text)\n",
    "print('the review was classified as: ', 'good' if prediction[0] == 1 else 'bad')"
   ]
  },
  {
   "cell_type": "code",
   "execution_count": 838,
   "metadata": {
    "colab": {
     "base_uri": "https://localhost:8080/",
     "height": 312
    },
    "id": "wtBlEPuk97k4",
    "outputId": "b5fd1a3c-43c3-4a9f-ffe0-6d3bde0ff822"
   },
   "outputs": [
    {
     "data": {
      "text/plain": [
       "<matplotlib.legend.Legend at 0x7f6036d2b438>"
      ]
     },
     "execution_count": 838,
     "metadata": {
      "tags": []
     },
     "output_type": "execute_result"
    },
    {
     "data": {
      "image/png": "[encoded data removed]",
      "text/plain": [
       "<Figure size 432x288 with 1 Axes>"
      ]
     },
     "metadata": {
      "needs_background": "light",
      "tags": []
     },
     "output_type": "display_data"
    }
   ],
   "source": [
    "fig, ax = plt.subplots()\n",
    "\n",
    "ax.set_title('ROC Curve')\n",
    "ax.plot(fpr, tpr, label='roc-curve')\n",
    "ax.plot([0, 1], [0, 1], linestyle='--')\n",
    "ax.set_xlabel('False Positive Rate')\n",
    "ax.set_xlim([0.0, 1.0])\n",
    "ax.set_ylabel('True Positive Rate')\n",
    "ax.set_ylim([0.0, 1.0])\n",
    "ax.legend()"
   ]
  },
  {
   "cell_type": "markdown",
   "metadata": {
    "id": "WFJVh0MThuGd"
   },
   "source": [
    "**What are the important features**"
   ]
  },
  {
   "cell_type": "code",
   "execution_count": 839,
   "metadata": {
    "colab": {
     "base_uri": "https://localhost:8080/"
    },
    "id": "y_gVJbWnhsF0",
    "outputId": "f8600740-7428-4053-a58a-4ec9b3d5fdcb"
   },
   "outputs": [
    {
     "name": "stdout",
     "output_type": "stream",
     "text": [
      "Words : \n",
      "             term  rank\n",
      "823         food   129\n",
      "1533       place    88\n",
      "899         good    68\n",
      "2086        time    61\n",
      "1182        like    58\n",
      "1423     ordered    56\n",
      "916        great    54\n",
      "1120        just    48\n",
      "1815     service    45\n",
      "1700  restaurant    43\n"
     ]
    }
   ],
   "source": [
    "# Getting top ranking features \n",
    "sums = count_train.sum(axis = 0) \n",
    "data = [] \n",
    "for col, term in enumerate(count_df.columns): \n",
    "    data.append( (term, sums[0, col] )) \n",
    "ranking = pd.DataFrame(data, columns = ['term', 'rank']) \n",
    "words = (ranking.sort_values('rank', ascending = False)) \n",
    "print (\"Words : \\n\", words.head(10)) "
   ]
  },
  {
   "cell_type": "code",
   "execution_count": 840,
   "metadata": {
    "id": "Qsx6X_Vy-AmN"
   },
   "outputs": [],
   "source": [
    "good_prob_sorted = nb_classifier.feature_log_prob_[1, :].argsort()\n",
    "bad_prob_sorted = nb_classifier.feature_log_prob_[0, :].argsort()\n"
   ]
  },
  {
   "cell_type": "markdown",
   "metadata": {
    "id": "_iqvyFaUZKrZ"
   },
   "source": [
    "**4. What are common words in bad reviews**"
   ]
  },
  {
   "cell_type": "code",
   "execution_count": 841,
   "metadata": {
    "colab": {
     "base_uri": "https://localhost:8080/"
    },
    "id": "AgN4LSb5-CpX",
    "outputId": "523ac479-1451-4e9c-f889-2093b0301ba4"
   },
   "outputs": [
    {
     "name": "stdout",
     "output_type": "stream",
     "text": [
      "bad reviews:  ['price' 'took' 'flavor' 'wait' 'come' 'attitude' 'called' 'long' 'meal'\n",
      " 'waitress' 'owner' 'nice' 'away' 'told' 'minutes' 'horrible' 'manager'\n",
      " 'didn' 'fish' 'worst' 've' 'left' 'people' 'asked' 'got' 'came' 'going'\n",
      " 'bad' 'really' 'order' 'restaurant' 'went' 'service' 'just' 'ordered'\n",
      " 'like' 'good' 'time' 'place' 'food']\n"
     ]
    }
   ],
   "source": [
    "print(\"bad reviews: \",np.take(count_vectorizer.get_feature_names(), bad_prob_sorted[-40:]))"
   ]
  },
  {
   "cell_type": "markdown",
   "metadata": {
    "id": "EsREHQRsZRIg"
   },
   "source": [
    "**5. What are common words in good review**"
   ]
  },
  {
   "cell_type": "code",
   "execution_count": 842,
   "metadata": {
    "colab": {
     "base_uri": "https://localhost:8080/"
    },
    "id": "a0ETZJ0N-DkM",
    "outputId": "a7ad9995-070f-46f0-b809-3be2c6952c8d"
   },
   "outputs": [
    {
     "name": "stdout",
     "output_type": "stream",
     "text": [
      "good reviews:  ['service' 'amazing' 'pizza' 'good' 'place' 'best' 'chicken' 'delicious'\n",
      " 'food' 'great'] \n",
      "\n"
     ]
    }
   ],
   "source": [
    "print(\"good reviews: \", np.take(count_vectorizer.get_feature_names(), good_prob_sorted[-10:]),'\\n')\n"
   ]
  },
  {
   "cell_type": "code",
   "execution_count": 842,
   "metadata": {
    "id": "UHyvry9KDbX5"
   },
   "outputs": [],
   "source": []
  },
  {
   "cell_type": "code",
   "execution_count": 842,
   "metadata": {
    "id": "Ty2BDIS1V3PX"
   },
   "outputs": [],
   "source": []
  }
 ],
 "metadata": {
  "colab": {
   "name": "Ahmed_Sera_lab4.ipynb",
   "provenance": []
  },
  "kernelspec": {
   "display_name": "Python 3",
   "language": "python",
   "name": "python3"
  },
  "language_info": {
   "codemirror_mode": {
    "name": "ipython",
    "version": 3
   },
   "file_extension": ".py",
   "mimetype": "text/x-python",
   "name": "python",
   "nbconvert_exporter": "python",
   "pygments_lexer": "ipython3",
   "version": "3.8.5"
  }
 },
 "nbformat": 4,
 "nbformat_minor": 1
}
